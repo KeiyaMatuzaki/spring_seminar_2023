{
  "nbformat": 4,
  "nbformat_minor": 0,
  "metadata": {
    "colab": {
      "provenance": []
    },
    "kernelspec": {
      "name": "python3",
      "display_name": "Python 3"
    },
    "language_info": {
      "name": "python"
    }
  },
  "cells": [
    {
      "cell_type": "code",
      "execution_count": null,
      "metadata": {
        "colab": {
          "base_uri": "https://localhost:8080/"
        },
        "id": "m0UDQE4fjvcp",
        "outputId": "c18bd2df-e4ad-434b-94f9-c063b8eee6c8"
      },
      "outputs": [
        {
          "output_type": "stream",
          "name": "stdout",
          "text": [
            "('m', 'a')('c', 'h')('i', 'n')('e', ' ')('p', 'e')('r', 'c')('e', 'p')('t', 'i')('o', 'n')(' ', 'r')('o', 'b')('o', 't')('i', 'c')('s', '-')('g', 'r')('o', 'u')('p', '!')"
          ]
        }
      ],
      "source": [
        "#課題1\n",
        "a = ['m','c','i','e','p','r','e','t','o',' ','o','o','i','s','g','o','p']\n",
        "b = ['a','h','n',' ','e','c','p','i','n','r','b','t','c','-','r','u','!']\n",
        "\n",
        "text = zip(a, b)\n",
        "\n",
        "for ch in text:\n",
        "  print(ch, end=\"\")"
      ]
    },
    {
      "cell_type": "code",
      "source": [
        "#課題2\n",
        "import numpy as np\n",
        "\n",
        "math = np.array([40, 15, 72, 22, 43, 82, 75, 7, 34, 49, 95, 75, 85, 47, 63])\n",
        "\n",
        "pas = np.sum(np.where(math >= 70, 1, 0))\n",
        "print('pass = ', pas)\n",
        "\n",
        "Z = (math - np.mean(math)) / np.std(math)\n",
        "print('Z = ', Z)"
      ],
      "metadata": {
        "colab": {
          "base_uri": "https://localhost:8080/"
        },
        "id": "z4p0RQAjqC4v",
        "outputId": "f57a0a2d-7c98-4db9-8ea8-e4fe45b47c1e"
      },
      "execution_count": null,
      "outputs": [
        {
          "output_type": "stream",
          "name": "stdout",
          "text": [
            "pass =  6\n",
            "Z =  [-0.52012054 -1.47622446  0.70369249 -1.20851536 -0.40538806  1.08613406\n",
            "  0.81842496 -1.78217772 -0.74958548 -0.17592312  1.5833081   0.81842496\n",
            "  1.20086653 -0.25241144  0.35949508]\n"
          ]
        }
      ]
    },
    {
      "cell_type": "code",
      "source": [
        "#課題3\n",
        "import matplotlib.pyplot as plt\n",
        "import numpy as np\n",
        "\n",
        "def sigmoid(x):\n",
        "  return 1 / (1 + np.exp(-x))\n",
        "\n",
        "def softmax(x):\n",
        "  exp_x = np.exp(x)\n",
        "  sum_exp_x = np.sum(exp_x)\n",
        "  return exp_x / sum_exp_x\n",
        "\n",
        "def tanh(x):\n",
        "  exp_x = np.exp(x)\n",
        "  exp__x = np.exp(-x)\n",
        "  return (exp_x - exp__x) / (exp_x + exp__x)\n",
        "\n",
        "x = np.arange(-5.0, 5.0, 0.1)\n",
        "y = sigmoid(x)\n",
        "yy = softmax(x)\n",
        "yyy = tanh(x)\n",
        "\n",
        "plt.plot(x,y,label=\"A\")\n",
        "plt.plot(x,yy,label=\"B\")\n",
        "plt.plot(x,yyy,label=\"C\")\n",
        "plt.legend([\"sigmoid\",\"softmax\",\"tanh\"])\n",
        "plt.ylim(-1.2, 1.2)\n",
        "plt.title(\"activation function\")\n",
        "plt.xlabel(\"input\")\n",
        "plt.ylabel(\"output\")\n",
        "plt.show()"
      ],
      "metadata": {
        "colab": {
          "base_uri": "https://localhost:8080/"
        },
        "id": "CeO9VVkgrCbL",
        "outputId": "de5f92c2-0170-42e8-ecea-d5ddaca5303e"
      },
      "execution_count": null,
      "outputs": [
        {
          "output_type": "display_data",
          "data": {
            "text/plain": [
              "<Figure size 432x288 with 1 Axes>"
            ],
            "image/png": "[encoded data removed]"
          },
          "metadata": {
            "needs_background": "light"
          }
        }
      ]
    }
  ]
}