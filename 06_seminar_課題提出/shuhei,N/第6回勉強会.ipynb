{
  "nbformat": 4,
  "nbformat_minor": 0,
  "metadata": {
    "colab": {
      "provenance": []
    },
    "kernelspec": {
      "name": "python3",
      "display_name": "Python 3"
    },
    "language_info": {
      "name": "python"
    }
  },
  "cells": [
    {
      "cell_type": "markdown",
      "source": [
        "問題1"
      ],
      "metadata": {
        "id": "ebdPFoZPN1VO"
      }
    },
    {
      "cell_type": "code",
      "source": [
        "a = ['m', 'c', 'i', 'e', 'p', 'r', 'e', 't', 'o', ' ', 'o', 'o', 'i', 's', 'g', 'o', 'p']\n",
        "b = ['a', 'h', 'n', ' ', 'e', 'c', 'p', 'i', 'n', 'r', 'b', 't', 'c', '-', 'r', 'u', '!']\n",
        "target_output = ''\n",
        "for x, y in zip(a, b):\n",
        " target_output += x \n",
        " target_output += y\n",
        "\n",
        "text = target_output\n",
        "for ch in text:\n",
        " print(ch, end=\"\")"
      ],
      "metadata": {
        "colab": {
          "base_uri": "https://localhost:8080/"
        },
        "id": "wRWBuWK2RCCx",
        "outputId": "fb440445-e047-4e7d-8444-af414808b4d5"
      },
      "execution_count": null,
      "outputs": [
        {
          "output_type": "stream",
          "name": "stdout",
          "text": [
            "machine perception robotics-group!"
          ]
        }
      ]
    },
    {
      "cell_type": "markdown",
      "source": [
        "問題2"
      ],
      "metadata": {
        "id": "3oxXm9zTsYjR"
      }
    },
    {
      "cell_type": "code",
      "source": [
        " import numpy as np\n",
        "math = np.array([40, 15, 72, 22, 43, 82, 75, 7, 34, 49, 95, 75, 85, 47, 63])\n",
        "list70 = list(filter(lambda x: x >= 70, math))\n",
        "pass1=len(list70)\n",
        "print(pass1)\n",
        "\n",
        "Z = (math - np.mean(math)) / np.std(math)\n",
        "print(Z)\n"
      ],
      "metadata": {
        "colab": {
          "base_uri": "https://localhost:8080/"
        },
        "id": "7v07MgIoj3VM",
        "outputId": "7042507a-1474-4e37-d376-15c93305cabf"
      },
      "execution_count": null,
      "outputs": [
        {
          "output_type": "stream",
          "name": "stdout",
          "text": [
            "6\n",
            "[-0.52012054 -1.47622446  0.70369249 -1.20851536 -0.40538806  1.08613406\n",
            "  0.81842496 -1.78217772 -0.74958548 -0.17592312  1.5833081   0.81842496\n",
            "  1.20086653 -0.25241144  0.35949508]\n"
          ]
        }
      ]
    },
    {
      "cell_type": "markdown",
      "source": [
        "問題3"
      ],
      "metadata": {
        "id": "TH4jKGNCscwb"
      }
    },
    {
      "cell_type": "code",
      "source": [
        "import matplotlib.pyplot as plt\n",
        "import numpy as np\n",
        "\n",
        "x = np.arange(-5.0, 5.0, 0.1)\n",
        "\n",
        "def sigmoid(x):\n",
        "    return 1 / (1 + np.exp(-x))\n",
        "\n",
        "def softmax(x):\n",
        "    exp_x = np.exp(x)\n",
        "    return exp_x / np.sum(exp_x)\n",
        "\n",
        "def tanh(x):\n",
        "    return np.tanh(x)\n",
        "\n",
        "plt.plot(x, sigmoid(x), label='Sigmoid')\n",
        "plt.plot(x, softmax(x), label='Softmax')\n",
        "plt.plot(x, tanh(x), label='Tanh')\n",
        "\n",
        "plt.ylim(-1.2, 1.2)\n",
        "\n",
        "plt.legend()\n",
        "plt.title('Activation Functions')\n",
        "plt.xlabel('Input')\n",
        "plt.ylabel('Output')\n",
        "\n",
        "plt.show()\n"
      ],
      "metadata": {
        "colab": {
          "base_uri": "https://localhost:8080/",
          "height": 295
        },
        "id": "ugxHfggSseml",
        "outputId": "dda76bfe-ece2-492d-e67d-f4778679e087"
      },
      "execution_count": null,
      "outputs": [
        {
          "output_type": "display_data",
          "data": {
            "text/plain": [
              "<Figure size 432x288 with 1 Axes>"
            ],
            "image/png": "[encoded data removed]"
          },
          "metadata": {
            "needs_background": "light"
          }
        }
      ]
    }
  ]
}