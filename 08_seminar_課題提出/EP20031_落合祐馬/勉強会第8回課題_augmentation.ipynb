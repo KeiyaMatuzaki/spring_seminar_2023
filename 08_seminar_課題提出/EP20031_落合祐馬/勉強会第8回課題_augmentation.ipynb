{
  "cells": [
    {
      "cell_type": "markdown",
      "metadata": {
        "id": "wJU2RPpSvlQT"
      },
      "source": [
        "# データ拡張（Data Augmentation）\n",
        "\n",
        "\n",
        "---\n",
        "## 目的\n",
        "CIFAR10 Datasetを用いて10クラスの物体認識を行う．プログラムの構成は，MNISTによる文字認識のプログラムと同様になっているため，基礎的な説明はそちらを参照して頂きたい．このページでは，MNISTによる文字認識のプログラムとの差分について書いていく．\n",
        "\n",
        "GPUを用いたネットワークの計算を行う．\n",
        "また，Data Augmentationを用いた学習の効果について確認する．\n"
      ]
    },
    {
      "cell_type": "markdown",
      "metadata": {
        "id": "5rQGfxWYK_4O"
      },
      "source": [
        "## 準備\n",
        "\n",
        "### Google Colaboratoryの設定確認・変更\n",
        "本チュートリアルではPyTorchを利用してニューラルネットワークの実装を確認，学習および評価を行います．\n",
        "**GPUを用いて処理を行うために，上部のメニューバーの「ランタイム」→「ランタイムのタイプを変更」からハードウェアアクセラレータをGPUにしてください．**\n"
      ]
    },
    {
      "cell_type": "markdown",
      "metadata": {
        "id": "C2tsYagqvloK"
      },
      "source": [
        "## 使用するデータセット\n",
        "\n",
        "### データセット\n",
        "今回の物体認識では，CIFAR10データセットを用いる．CIFAR10データセットは，飛行機や犬などの10クラスの物体が表示されている画像から構成されたデータセットである．"
      ]
    },
    {
      "cell_type": "markdown",
      "metadata": {
        "id": "Xo4jjpmwvle1"
      },
      "source": [
        "## モジュールのインポート\n",
        "はじめに必要なモジュールをインポートする．\n",
        "\n",
        "### GPUの確認\n",
        "GPUを使用した計算が可能かどうかを確認します．\n",
        "\n",
        "`GPU availability: True`と表示されれば，GPUを使用した計算をChainerで行うことが可能です．\n",
        "Falseとなっている場合は，上記の「Google Colaboratoryの設定確認・変更」に記載している手順にしたがって，設定を変更した後に，モジュールのインポートから始めてください．\n"
      ]
    },
    {
      "cell_type": "code",
      "execution_count": 13,
      "metadata": {
        "id": "iCeaCulfvlao",
        "colab": {
          "base_uri": "https://localhost:8080/"
        },
        "outputId": "c3815d9d-e555-4049-ba2b-7de5db36ff2f"
      },
      "outputs": [
        {
          "output_type": "stream",
          "name": "stdout",
          "text": [
            "Use CUDA: True\n"
          ]
        }
      ],
      "source": [
        "# モジュールのインポート\n",
        "from time import time\n",
        "import numpy as np\n",
        "import torch\n",
        "import torch.nn as nn\n",
        "\n",
        "import torchvision\n",
        "import torchvision.transforms as transforms\n",
        "\n",
        "import torchsummary\n",
        "\n",
        "# GPUの確認\n",
        "use_cuda = torch.cuda.is_available()\n",
        "print('Use CUDA:', use_cuda)"
      ]
    },
    {
      "cell_type": "markdown",
      "metadata": {
        "id": "ppjeW5MbysXC"
      },
      "source": [
        "## データセットの読み込みとData Augmentation\n",
        "学習データ（CIFAR10データセット）を読み込みます．\n",
        "\n",
        "この時，学習およびテスト画像に対する前処理`transform_train`および`transform_test`を定義します．\n",
        "`transform_train`は，`transforms.Compose()`を用いて定義します．\n",
        "`transforms.Compose()`では，引数に指定した処理を行った画像データを返し，学習または評価に使用するように定義を行います．\n",
        "\n",
        "### augmentationなしの場合\n",
        "まず．augmentationなしの場合の定義について説明します．\n",
        "ここでは，`transforms.Compose([transforms.ToTensor()])`のように，引数として，`transforms.ToTensor()`関数が格納されたリストを入力します．\n",
        "これにより，データをpytorchで扱うことのできる`Tensor`型の配列に変換すると同時に，`[0, 255]`の画素値を`[0.0, 1.0]`に正規化を行ったものを返す処理を実現しています．\n",
        "\n",
        "### augmentationありの場合\n",
        "何かしらのAugmentationを適用する場合には，`transforms.Compose()`の引数に，行いたい処理の関数をリストとして用意します．\n",
        "下の例では，\n",
        "```\n",
        "[transforms.RandomCrop(32, padding=1),\n",
        " transforms.RandomHorizontalFlip(),\n",
        " transforms.ToTensor()]\n",
        "```\n",
        "という3種類の関数をリストに格納し，`transfomrs.Compose()`の引数へ入力しています．\n",
        "`RandomCrop()`は画像をランダムに切り取り，CIFAR10の画像サイズである32×32 pixelsにリサイズして返す処理を定義しています．\n",
        "また，`RandomHorizontalFlip()`では，ランダムに左右反転を行う処理を定義しています．\n",
        "最後に，Augmentationを行った画像データを`Tensor`型の配列へ変換・画素値を正規化し返すように定義しています．\n",
        "\n",
        "一方で，テストデータには，Augmentationを適用しないため，`ToTensor()`関数のみを使用するように定義しています．"
      ]
    },
    {
      "cell_type": "code",
      "execution_count": 14,
      "metadata": {
        "id": "K_xx-TkVvls6",
        "colab": {
          "base_uri": "https://localhost:8080/"
        },
        "outputId": "844f87cb-ef63-4919-8fc6-072112d24cec"
      },
      "outputs": [
        {
          "output_type": "stream",
          "name": "stdout",
          "text": [
            "Files already downloaded and verified\n",
            "Files already downloaded and verified\n",
            "Dataset CIFAR10\n",
            "    Number of datapoints: 50000\n",
            "    Root location: ./\n",
            "    Split: Train\n",
            "    StandardTransform\n",
            "Transform: Compose(\n",
            "               ToTensor()\n",
            "           )\n",
            "Dataset CIFAR10\n",
            "    Number of datapoints: 10000\n",
            "    Root location: ./\n",
            "    Split: Test\n",
            "    StandardTransform\n",
            "Transform: Compose(\n",
            "               ToTensor()\n",
            "           )\n"
          ]
        }
      ],
      "source": [
        "# augmentationなし #####\n",
        "transform_train = transforms.Compose([transforms.ToTensor()])\n",
        "transform_test = transforms.Compose([transforms.ToTensor()])\n",
        "\n",
        "# augmentationあり #####\n",
        "#transform_train = transforms.Compose([transforms.RandomCrop(32, padding=1),\n",
        "#                                       transforms.RandomHorizontalFlip(),\n",
        "#                                      transforms.RandomRotation(45),\n",
        "#                                       transforms.ToTensor()])\n",
        "#transform_test = transforms.Compose([transforms.ToTensor()])\n",
        "\n",
        "train_data = torchvision.datasets.CIFAR10(root=\"./\", train=True, transform=transform_train, download=True)\n",
        "test_data = torchvision.datasets.CIFAR10(root=\"./\", train=False, transform=transform_test, download=True)\n",
        "\n",
        "print(train_data)\n",
        "print(test_data)"
      ]
    },
    {
      "cell_type": "markdown",
      "metadata": {
        "id": "xgDd3iX2zmSV"
      },
      "source": [
        "## ネットワークモデルの定義\n",
        "畳み込みニューラルネットワークを定義します．\n",
        "\n",
        "ここでは，畳み込み層２層，全結合層３層から構成されるネットワークとします．\n",
        "\n",
        "１層目の畳み込み層は入力チャンネル数が3，出力する特徴マップ数が16，畳み込むフィルタサイズが3x3です．２層目の畳み込み層は入力チャネル数が16．出力する特徴マップ数が32，畳み込むフィルタサイズは同じく3x3です．１つ目の全結合層は入力ユニット数は`8*8*32`とし，出力は1024としています．次の全結合層入力，出力共に1024，出力層は入力が1024，出力が10です．これらの各層の構成を`__init__`関数で定義します．\n",
        "\n",
        "次に，`forward`関数では，定義した層を接続して処理するように記述します．`forward`関数の引数xは入力データです．それを`__init__`関数で定義したconv1に与え，その出力を活性化関数であるrelu関数に与えます．そして，その出力をmax_pooling_2dに与えて，プーリング処理結果をhとして出力します．hはconv2に与えられて畳み込み処理とプーリング処理を行います．そして，出力hをl1に与えて全結合層の処理を行います．最終的にl3の全結合層の処理を行った出力hを戻り値としています．"
      ]
    },
    {
      "cell_type": "code",
      "execution_count": 15,
      "metadata": {
        "id": "TNHnp_YczmY3"
      },
      "outputs": [],
      "source": [
        "class CNN(nn.Module):\n",
        "    def __init__(self):\n",
        "        super().__init__()\n",
        "        self.conv1 = nn.Conv2d(3, 16, kernel_size=3, stride=1, padding=1)\n",
        "        self.conv2 = nn.Conv2d(16, 32, kernel_size=3, stride=1, padding=1)\n",
        "        self.relu = nn.ReLU()\n",
        "        self.pool = nn.MaxPool2d(2, 2)\n",
        "        self.l1 = nn.Linear(8 * 8 * 32, 1024)\n",
        "        self.l2 = nn.Linear(1024, 1024)\n",
        "        self.l3 = nn.Linear(1024, 10)\n",
        "    \n",
        "    def forward(self, x):\n",
        "        h = self.pool(self.relu(self.conv1(x)))\n",
        "        h = self.pool(self.relu(self.conv2(h)))\n",
        "        h = h.view(h.size()[0], -1)\n",
        "        h = self.relu(self.l1(h))\n",
        "        h = self.relu(self.l2(h))\n",
        "        h = self.l3(h)\n",
        "        return h"
      ]
    },
    {
      "cell_type": "code",
      "source": [
        "class CNN2(nn.Module):\n",
        "    def __init__(self):\n",
        "        super().__init__()\n",
        "        self.conv1 = nn.Conv2d(3, 16, kernel_size=3, stride=1, padding=1)\n",
        "        self.conv2 = nn.Conv2d(16, 32, kernel_size=3, stride=1, padding=1)\n",
        "        self.conv3 = nn.Conv2d(32, 64, kernel_size=3, stride=1, padding=1)\n",
        "        self.relu = nn.ReLU()\n",
        "        self.pool = nn.MaxPool2d(2, 2)\n",
        "        self.l1 = nn.Linear(8 * 8 * 16, 1024)\n",
        "        self.l2 = nn.Linear(1024, 1024)\n",
        "        self.l3 = nn.Linear(1024, 10)\n",
        "    \n",
        "    def forward(self, x):\n",
        "        h = self.pool(self.relu(self.conv1(x)))\n",
        "        h = self.pool(self.relu(self.conv2(h)))\n",
        "        h = self.pool(self.relu(self.conv3(h)))\n",
        "        h = h.view(h.size()[0], -1)\n",
        "        h = self.relu(self.l1(h))\n",
        "        h = self.relu(self.l2(h))\n",
        "        h = self.l3(h)\n",
        "        return h"
      ],
      "metadata": {
        "id": "DQ2YaBytzVhx"
      },
      "execution_count": 16,
      "outputs": []
    },
    {
      "cell_type": "markdown",
      "metadata": {
        "id": "8Dwuvfouzmd7"
      },
      "source": [
        "## ネットワークの作成\n",
        "上のプログラムで定義したネットワークを作成します．\n",
        "\n",
        "CNNクラスを呼び出して，ネットワークモデルを定義します． また，GPUを使う場合（use_cuda == True）には，ネットワークモデルをGPUメモリ上に配置します． これにより，GPUを用いた演算が可能となります．\n",
        "\n",
        "学習を行う際の最適化方法としてモーメンタムSGD(モーメンタム付き確率的勾配降下法）を利用します． また，学習率を0.01，モーメンタムを0.9として引数に与えます．\n",
        "\n",
        "最後に，定義したネットワークの詳細情報を`torchsummary.summary()`関数を用いて表示します．\n"
      ]
    },
    {
      "cell_type": "code",
      "execution_count": 17,
      "metadata": {
        "id": "23m79Eq-zmjl",
        "colab": {
          "base_uri": "https://localhost:8080/"
        },
        "outputId": "fe76e5e6-4f45-407f-b480-a995b2bc7b88"
      },
      "outputs": [
        {
          "output_type": "stream",
          "name": "stdout",
          "text": [
            "----------------------------------------------------------------\n",
            "        Layer (type)               Output Shape         Param #\n",
            "================================================================\n",
            "            Conv2d-1           [-1, 16, 32, 32]             448\n",
            "              ReLU-2           [-1, 16, 32, 32]               0\n",
            "         MaxPool2d-3           [-1, 16, 16, 16]               0\n",
            "            Conv2d-4           [-1, 32, 16, 16]           4,640\n",
            "              ReLU-5           [-1, 32, 16, 16]               0\n",
            "         MaxPool2d-6             [-1, 32, 8, 8]               0\n",
            "            Linear-7                 [-1, 1024]       2,098,176\n",
            "              ReLU-8                 [-1, 1024]               0\n",
            "            Linear-9                 [-1, 1024]       1,049,600\n",
            "             ReLU-10                 [-1, 1024]               0\n",
            "           Linear-11                   [-1, 10]          10,250\n",
            "================================================================\n",
            "Total params: 3,163,114\n",
            "Trainable params: 3,163,114\n",
            "Non-trainable params: 0\n",
            "----------------------------------------------------------------\n",
            "Input size (MB): 0.01\n",
            "Forward/backward pass size (MB): 0.45\n",
            "Params size (MB): 12.07\n",
            "Estimated Total Size (MB): 12.53\n",
            "----------------------------------------------------------------\n"
          ]
        }
      ],
      "source": [
        "model = CNN()\n",
        "if use_cuda:\n",
        "    model.cuda()\n",
        "\n",
        "optimizer = torch.optim.SGD(model.parameters(), lr=0.01, momentum=0.9)\n",
        "\n",
        "# モデルの情報を表示\n",
        "torchsummary.summary(model, (3, 32, 32))"
      ]
    },
    {
      "cell_type": "markdown",
      "metadata": {
        "id": "MUNa9Xe79vAG"
      },
      "source": [
        "## 学習\n",
        "読み込んだMNISTデータセットと作成したネットワークを用いて，学習を行います．\n",
        "\n",
        "1回の誤差を算出するデータ数（ミニバッチサイズ）を64，学習エポック数を10とします．\n",
        "\n",
        "次にデータローダーを定義します．\n",
        "データローダーでは，上で読み込んだデータセット（`train_data`）を用いて，for文で指定したミニバッチサイズでデータを読み込むオブジェクトを作成します．\n",
        "この時，`shuffle=True`と設定することで，読み込むデータを毎回ランダムに指定します．\n",
        "\n",
        "次に，誤差関数を設定します．\n",
        "今回は，分類問題をあつかうため，クロスエントロピー誤差を計算するための`CrossEntropyLoss`を`criterion`として定義します．\n",
        "\n",
        "学習を開始します．\n",
        "\n",
        "各更新において，学習用データと教師データをそれぞれ`image`と`label`とします．\n",
        "学習モデルにimageを与えて各クラスの確率yを取得します．\n",
        "各クラスの確率yと教師ラベルtとの誤差を`criterion`で算出します．\n",
        "また，認識精度も算出します．\n",
        "そして，誤差をbackward関数で逆伝播し，ネットワークの更新を行います．"
      ]
    },
    {
      "cell_type": "code",
      "execution_count": 19,
      "metadata": {
        "id": "68RE3RTa76-W",
        "colab": {
          "base_uri": "https://localhost:8080/"
        },
        "outputId": "2ad9a74d-0585-4d2c-9670-385f2fd0a9d5"
      },
      "outputs": [
        {
          "output_type": "stream",
          "name": "stdout",
          "text": [
            "----------------------------------------------------------------\n",
            "        Layer (type)               Output Shape         Param #\n",
            "================================================================\n",
            "            Conv2d-1           [-1, 16, 32, 32]             448\n",
            "              ReLU-2           [-1, 16, 32, 32]               0\n",
            "         MaxPool2d-3           [-1, 16, 16, 16]               0\n",
            "            Conv2d-4           [-1, 32, 16, 16]           4,640\n",
            "              ReLU-5           [-1, 32, 16, 16]               0\n",
            "         MaxPool2d-6             [-1, 32, 8, 8]               0\n",
            "            Linear-7                 [-1, 1024]       2,098,176\n",
            "              ReLU-8                 [-1, 1024]               0\n",
            "            Linear-9                 [-1, 1024]       1,049,600\n",
            "             ReLU-10                 [-1, 1024]               0\n",
            "           Linear-11                   [-1, 10]          10,250\n",
            "================================================================\n",
            "Total params: 3,163,114\n",
            "Trainable params: 3,163,114\n",
            "Non-trainable params: 0\n",
            "----------------------------------------------------------------\n",
            "Input size (MB): 0.01\n",
            "Forward/backward pass size (MB): 0.45\n",
            "Params size (MB): 12.07\n",
            "Estimated Total Size (MB): 12.53\n",
            "----------------------------------------------------------------\n",
            "epoch: 1, mean loss: 1.8872488792419433, mean accuracy: 0.30882, elapsed_time :10.766288042068481\n",
            "epoch: 2, mean loss: 1.4022785118103027, mean accuracy: 0.49314, elapsed_time :22.906885623931885\n",
            "epoch: 3, mean loss: 1.1914274765014647, mean accuracy: 0.57438, elapsed_time :35.17126536369324\n",
            "epoch: 4, mean loss: 1.0295992695617675, mean accuracy: 0.6335, elapsed_time :47.409871339797974\n",
            "epoch: 5, mean loss: 0.8825432559967041, mean accuracy: 0.68824, elapsed_time :59.790061473846436\n",
            "epoch: 6, mean loss: 0.7522843437576294, mean accuracy: 0.73426, elapsed_time :72.03515195846558\n",
            "epoch: 7, mean loss: 0.6185659141540527, mean accuracy: 0.78272, elapsed_time :84.14770030975342\n",
            "epoch: 8, mean loss: 0.49240297624588014, mean accuracy: 0.82578, elapsed_time :96.47178912162781\n",
            "epoch: 9, mean loss: 0.3596012675189972, mean accuracy: 0.87214, elapsed_time :108.58864855766296\n",
            "epoch: 10, mean loss: 0.25497436712265015, mean accuracy: 0.91116, elapsed_time :120.86838412284851\n",
            "test accuracy: 0.6616\n",
            "epoch_num: 10\n",
            "----------------------------------------------------------------\n",
            "        Layer (type)               Output Shape         Param #\n",
            "================================================================\n",
            "            Conv2d-1           [-1, 16, 32, 32]             448\n",
            "              ReLU-2           [-1, 16, 32, 32]               0\n",
            "         MaxPool2d-3           [-1, 16, 16, 16]               0\n",
            "            Conv2d-4           [-1, 32, 16, 16]           4,640\n",
            "              ReLU-5           [-1, 32, 16, 16]               0\n",
            "         MaxPool2d-6             [-1, 32, 8, 8]               0\n",
            "            Linear-7                 [-1, 1024]       2,098,176\n",
            "              ReLU-8                 [-1, 1024]               0\n",
            "            Linear-9                 [-1, 1024]       1,049,600\n",
            "             ReLU-10                 [-1, 1024]               0\n",
            "           Linear-11                   [-1, 10]          10,250\n",
            "================================================================\n",
            "Total params: 3,163,114\n",
            "Trainable params: 3,163,114\n",
            "Non-trainable params: 0\n",
            "----------------------------------------------------------------\n",
            "Input size (MB): 0.01\n",
            "Forward/backward pass size (MB): 0.45\n",
            "Params size (MB): 12.07\n",
            "Estimated Total Size (MB): 12.53\n",
            "----------------------------------------------------------------\n",
            "epoch: 1, mean loss: 1.8566266584777833, mean accuracy: 0.31952, elapsed_time :10.75326943397522\n",
            "epoch: 2, mean loss: 1.3804190827178955, mean accuracy: 0.5017, elapsed_time :23.05348038673401\n",
            "epoch: 3, mean loss: 1.160964476852417, mean accuracy: 0.58494, elapsed_time :35.3366641998291\n",
            "epoch: 4, mean loss: 1.0012023663330079, mean accuracy: 0.64376, elapsed_time :47.70888042449951\n",
            "epoch: 5, mean loss: 0.8562785562896729, mean accuracy: 0.69628, elapsed_time :59.999563217163086\n",
            "epoch: 6, mean loss: 0.7147136476135254, mean accuracy: 0.74768, elapsed_time :72.24952745437622\n",
            "epoch: 7, mean loss: 0.5812731940841674, mean accuracy: 0.79712, elapsed_time :84.57237482070923\n",
            "epoch: 8, mean loss: 0.4538706510353088, mean accuracy: 0.8388, elapsed_time :96.94830656051636\n",
            "epoch: 9, mean loss: 0.3303758553123474, mean accuracy: 0.88418, elapsed_time :109.1389627456665\n",
            "epoch: 10, mean loss: 0.23510681562423705, mean accuracy: 0.91874, elapsed_time :121.33735942840576\n",
            "epoch: 11, mean loss: 0.16362236547470094, mean accuracy: 0.94432, elapsed_time :133.635244846344\n",
            "epoch: 12, mean loss: 0.12366458579778672, mean accuracy: 0.9566, elapsed_time :146.80775475502014\n",
            "epoch: 13, mean loss: 0.10939721970200539, mean accuracy: 0.96258, elapsed_time :159.10924077033997\n",
            "epoch: 14, mean loss: 0.09419213712155819, mean accuracy: 0.96666, elapsed_time :171.2742531299591\n",
            "epoch: 15, mean loss: 0.07890802144944668, mean accuracy: 0.97342, elapsed_time :183.5702669620514\n",
            "epoch: 16, mean loss: 0.050526453692615034, mean accuracy: 0.98436, elapsed_time :195.94060158729553\n",
            "epoch: 17, mean loss: 0.05465451403915882, mean accuracy: 0.9812, elapsed_time :208.19233918190002\n",
            "epoch: 18, mean loss: 0.04874026177749038, mean accuracy: 0.98402, elapsed_time :220.43682527542114\n",
            "epoch: 19, mean loss: 0.029630499776452778, mean accuracy: 0.9908, elapsed_time :232.56941676139832\n",
            "epoch: 20, mean loss: 0.028651963208019732, mean accuracy: 0.99064, elapsed_time :245.01934599876404\n",
            "test accuracy: 0.6941\n",
            "epoch_num: 20\n",
            "----------------------------------------------------------------\n",
            "        Layer (type)               Output Shape         Param #\n",
            "================================================================\n",
            "            Conv2d-1           [-1, 16, 32, 32]             448\n",
            "              ReLU-2           [-1, 16, 32, 32]               0\n",
            "         MaxPool2d-3           [-1, 16, 16, 16]               0\n",
            "            Conv2d-4           [-1, 32, 16, 16]           4,640\n",
            "              ReLU-5           [-1, 32, 16, 16]               0\n",
            "         MaxPool2d-6             [-1, 32, 8, 8]               0\n",
            "            Linear-7                 [-1, 1024]       2,098,176\n",
            "              ReLU-8                 [-1, 1024]               0\n",
            "            Linear-9                 [-1, 1024]       1,049,600\n",
            "             ReLU-10                 [-1, 1024]               0\n",
            "           Linear-11                   [-1, 10]          10,250\n",
            "================================================================\n",
            "Total params: 3,163,114\n",
            "Trainable params: 3,163,114\n",
            "Non-trainable params: 0\n",
            "----------------------------------------------------------------\n",
            "Input size (MB): 0.01\n",
            "Forward/backward pass size (MB): 0.45\n",
            "Params size (MB): 12.07\n",
            "Estimated Total Size (MB): 12.53\n",
            "----------------------------------------------------------------\n",
            "epoch: 1, mean loss: 1.901021705932617, mean accuracy: 0.30106, elapsed_time :10.594738721847534\n",
            "epoch: 2, mean loss: 1.3883652835083007, mean accuracy: 0.49826, elapsed_time :22.81571340560913\n",
            "epoch: 3, mean loss: 1.163508928451538, mean accuracy: 0.5859, elapsed_time :35.14921569824219\n",
            "epoch: 4, mean loss: 0.98806111328125, mean accuracy: 0.65044, elapsed_time :47.380194664001465\n",
            "epoch: 5, mean loss: 0.8459763940811157, mean accuracy: 0.70284, elapsed_time :59.41478633880615\n",
            "epoch: 6, mean loss: 0.7052366635131836, mean accuracy: 0.7497, elapsed_time :71.58388948440552\n",
            "epoch: 7, mean loss: 0.567416375617981, mean accuracy: 0.80072, elapsed_time :83.73382616043091\n",
            "epoch: 8, mean loss: 0.4309644116592407, mean accuracy: 0.84944, elapsed_time :96.04236459732056\n",
            "epoch: 9, mean loss: 0.3089022009086609, mean accuracy: 0.89268, elapsed_time :108.11318612098694\n",
            "epoch: 10, mean loss: 0.2202437782907486, mean accuracy: 0.92358, elapsed_time :120.21472573280334\n",
            "epoch: 11, mean loss: 0.17243446537017823, mean accuracy: 0.93976, elapsed_time :132.44325923919678\n",
            "epoch: 12, mean loss: 0.12603443048357962, mean accuracy: 0.95688, elapsed_time :144.6332142353058\n",
            "epoch: 13, mean loss: 0.08922909403800965, mean accuracy: 0.96988, elapsed_time :156.8230652809143\n",
            "epoch: 14, mean loss: 0.08026696782171726, mean accuracy: 0.97276, elapsed_time :168.94106817245483\n",
            "epoch: 15, mean loss: 0.07554355705529452, mean accuracy: 0.97384, elapsed_time :181.79640913009644\n",
            "epoch: 16, mean loss: 0.06400687462985516, mean accuracy: 0.97814, elapsed_time :194.09402132034302\n",
            "epoch: 17, mean loss: 0.05422317783027887, mean accuracy: 0.9824, elapsed_time :206.1215169429779\n",
            "epoch: 18, mean loss: 0.04146279570087791, mean accuracy: 0.98652, elapsed_time :218.31515407562256\n",
            "epoch: 19, mean loss: 0.03541489126771689, mean accuracy: 0.98836, elapsed_time :230.50616931915283\n",
            "epoch: 20, mean loss: 0.02091136427272111, mean accuracy: 0.99358, elapsed_time :242.66495823860168\n",
            "epoch: 21, mean loss: 0.02057346851175651, mean accuracy: 0.99382, elapsed_time :254.83085417747498\n",
            "epoch: 22, mean loss: 0.03536875723589212, mean accuracy: 0.98902, elapsed_time :267.0828130245209\n",
            "epoch: 23, mean loss: 0.019476911424060817, mean accuracy: 0.99422, elapsed_time :279.2587583065033\n",
            "epoch: 24, mean loss: 0.018827950634546578, mean accuracy: 0.9938, elapsed_time :291.41679763793945\n",
            "epoch: 25, mean loss: 0.018828136243438348, mean accuracy: 0.99406, elapsed_time :303.6359760761261\n",
            "epoch: 26, mean loss: 0.02236164203615859, mean accuracy: 0.99318, elapsed_time :315.88554787635803\n",
            "epoch: 27, mean loss: 0.01580023618758656, mean accuracy: 0.99514, elapsed_time :328.1729233264923\n",
            "epoch: 28, mean loss: 0.014630340576805175, mean accuracy: 0.99492, elapsed_time :340.6868507862091\n",
            "epoch: 29, mean loss: 0.018365031291674824, mean accuracy: 0.99406, elapsed_time :352.9085109233856\n",
            "epoch: 30, mean loss: 0.011992854361037026, mean accuracy: 0.99582, elapsed_time :365.1072664260864\n",
            "test accuracy: 0.6934\n",
            "epoch_num: 30\n"
          ]
        }
      ],
      "source": [
        "# ミニバッチサイズ・エポック数の設定\n",
        "batch_size = 64\n",
        "epoch_num_list = [10,20,30]\n",
        "n_iter = len(train_data) / batch_size\n",
        "\n",
        "for epoch_num in epoch_num_list:\n",
        "  model = CNN()\n",
        "  if use_cuda:\n",
        "      model.cuda()\n",
        "\n",
        "  optimizer = torch.optim.SGD(model.parameters(), lr=0.01, momentum=0.9)\n",
        "\n",
        "  # モデルの情報を表示\n",
        "  torchsummary.summary(model, (3, 32, 32))\n",
        "  # データローダーの設定\n",
        "  train_loader = torch.utils.data.DataLoader(train_data, batch_size=batch_size, shuffle=True)\n",
        "\n",
        "  # 誤差関数の設定\n",
        "  criterion = nn.CrossEntropyLoss()\n",
        "  if use_cuda:\n",
        "      criterion.cuda()\n",
        "\n",
        "  # ネットワークを学習モードへ変更\n",
        "  model.train()\n",
        "\n",
        "  start = time()\n",
        "  for epoch in range(1, epoch_num+1):\n",
        "      sum_loss = 0.0\n",
        "      count = 0\n",
        "      \n",
        "      for image, label in train_loader:\n",
        "          \n",
        "          if use_cuda:\n",
        "              image = image.cuda()\n",
        "              label = label.cuda()\n",
        "\n",
        "          y = model(image)\n",
        "\n",
        "          loss = criterion(y, label)\n",
        "          \n",
        "          model.zero_grad()\n",
        "          loss.backward()\n",
        "          optimizer.step()\n",
        "          \n",
        "          sum_loss += loss.item()\n",
        "          \n",
        "          pred = torch.argmax(y, dim=1)\n",
        "          count += torch.sum(pred == label)\n",
        "          \n",
        "      print(\"epoch: {}, mean loss: {}, mean accuracy: {}, elapsed_time :{}\".format(epoch,\n",
        "                                                                                  sum_loss / n_iter,\n",
        "                                                                                  count.item() / len(train_data),\n",
        "                                                                                  time() - start))\n",
        "      # データローダーの準備\n",
        "      test_loader = torch.utils.data.DataLoader(test_data, batch_size=100, shuffle=False)\n",
        "\n",
        "      # ネットワークを評価モードへ変更\n",
        "      model.eval()\n",
        "\n",
        "      # 評価の実行\n",
        "      count = 0\n",
        "      with torch.no_grad():\n",
        "          for image, label in test_loader:\n",
        "\n",
        "              if use_cuda:\n",
        "                  image = image.cuda()\n",
        "                  label = label.cuda()\n",
        "                  \n",
        "              y = model(image)\n",
        "\n",
        "              pred = torch.argmax(y, dim=1)\n",
        "              count += torch.sum(pred == label)\n",
        "\n",
        "  print(\"test accuracy: {}\".format(count.item() / 10000.))\n",
        "  print(\"epoch_num: {}\".format(epoch_num))"
      ]
    },
    {
      "cell_type": "markdown",
      "metadata": {
        "id": "119eIrSmzmw6"
      },
      "source": [
        "## テスト\n",
        "学習したネットワークモデルを用いて評価を行います．"
      ]
    },
    {
      "cell_type": "code",
      "execution_count": null,
      "metadata": {
        "id": "yoYVMRGLzm1I"
      },
      "outputs": [],
      "source": [
        "# データローダーの準備\n",
        "test_loader = torch.utils.data.DataLoader(test_data, batch_size=100, shuffle=False)\n",
        "\n",
        "# ネットワークを評価モードへ変更\n",
        "model.eval()\n",
        "\n",
        "# 評価の実行\n",
        "count = 0\n",
        "with torch.no_grad():\n",
        "    for image, label in test_loader:\n",
        "\n",
        "        if use_cuda:\n",
        "            image = image.cuda()\n",
        "            label = label.cuda()\n",
        "            \n",
        "        y = model(image)\n",
        "\n",
        "        pred = torch.argmax(y, dim=1)\n",
        "        count += torch.sum(pred == label)\n",
        "\n",
        "print(\"test accuracy: {}\".format(count.item() / 10000.))\n",
        "print(\"epoch_num: {}\".format(epoch_num))"
      ]
    },
    {
      "cell_type": "markdown",
      "source": [
        "最初\n",
        "test accuracy: 0.6905\n",
        "\n",
        "transform_train = transforms.Compose([transforms.RandomCrop(32, padding=1),\n",
        "                                       transforms.RandomHorizontalFlip(),\n",
        "                                       transforms.ToTensor()])\n",
        "test accuracy: 0.7134\n",
        "\n",
        "transform_train = transforms.Compose([transforms.RandomCrop(32, padding=1),\n",
        "                                       transforms.RandomHorizontalFlip(),\n",
        "                                      transforms.RandomRotation(45),\n",
        "                                       transforms.ToTensor()])\n",
        "test accuracy: 0.6259                                       "
      ],
      "metadata": {
        "id": "Xrq_psL1z1Tp"
      }
    },
    {
      "cell_type": "markdown",
      "source": [
        "CNN\n",
        "最初 test accuracy: 0.6905\n",
        "\n",
        "CNN2\n",
        "test accuracy: 0.7189"
      ],
      "metadata": {
        "id": "3_rSiU418wMS"
      }
    },
    {
      "cell_type": "markdown",
      "source": [
        "epoch_num = 10\n",
        "test accuracy: 0.6616\n",
        "\n",
        "epoch_num = 20\n",
        "test accuracy: 0.6941\n",
        "\n",
        "epoch_num = 30\n",
        "test accuracy: 0.6934"
      ],
      "metadata": {
        "id": "l5UT9gbZ9iBX"
      }
    },
    {
      "cell_type": "markdown",
      "metadata": {
        "id": "Gzl4N5rC4j5u"
      },
      "source": [
        "## 課題\n",
        "\n",
        "### 1. ネットワークの構造を変更し，認識精度の変化を確認しましょう．\n",
        "\n",
        "**ヒント：ネットワーク構造の変更としては，次のようなものが考えられます．**\n",
        "* 中間層のユニット数\n",
        "* 層の数\n",
        "* 活性化関数\n",
        "  * `nn.Tanh()`や`nn.ReLU()`, `nn.LeakyReLU()`などが考えられます．\n",
        "  * その他のPyTorchで使用できる活性化関数は[こちらページ](https://pytorch.org/docs/stable/nn.html#non-linear-activations-weighted-sum-nonlinearity)にまとめられています．\n",
        "\n",
        "※ ネットワーク構造を変更した際には，`torchsummary.summary(***)`を使用し，ネットワーク構造を変更した際のパラメータ数の変化を確認してみましょう．\n",
        "\n",
        "\n",
        "### 2. 学習の設定を変更し，認識精度の変化を確認しましょう．\n",
        "\n",
        "**ヒント：プログラムの中で変更で切る設定は次のようなものが存在します．**\n",
        "* ミニバッチサイズ\n",
        "* 学習回数（Epoch数）\n",
        "* 学習率\n",
        "* 最適化手法\n",
        "  * `torch.optim.Adagrad()`や`torch.optim.Adam()`などが考えられます．\n",
        "  * PyTorchで使用できる最適化手法は[こちらのページ](https://pytorch.org/docs/stable/optim.html#algorithms)にまとめられています．\n",
        "\n",
        "\n",
        "### 3. Data Augmentationの種類を追加して学習を行いましょう．\n",
        "\n",
        "**ヒント**\n",
        "：学習時に使用するData Augmentationは`transform_train`の部分で変更できます．\n",
        "\n",
        "```python\n",
        "transform_train = transforms.Compose([(この部分に使用するAugmentationの処理を追加) ,\n",
        "                                      transforms.ToTensor()])\n",
        "```\n",
        "\n",
        "PyTorch（torchvision）で使用可能な変換は[こちらのページ](https://pytorch.org/vision/stable/transforms.html)にまとめられています．\n"
      ]
    }
  ],
  "metadata": {
    "accelerator": "GPU",
    "colab": {
      "provenance": []
    },
    "kernelspec": {
      "display_name": "Python 3",
      "language": "python",
      "name": "python3"
    },
    "language_info": {
      "codemirror_mode": {
        "name": "ipython",
        "version": 3
      },
      "file_extension": ".py",
      "mimetype": "text/x-python",
      "name": "python",
      "nbconvert_exporter": "python",
      "pygments_lexer": "ipython3",
      "version": "3.6.9"
    }
  },
  "nbformat": 4,
  "nbformat_minor": 0
}